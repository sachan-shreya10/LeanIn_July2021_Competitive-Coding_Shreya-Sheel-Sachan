{
  "nbformat": 4,
  "nbformat_minor": 0,
  "metadata": {
    "colab": {
      "name": "Shreya_Sheel_Sachan_Assignment3_Word_Embeddings.ipynb",
      "provenance": [],
      "collapsed_sections": [],
      "authorship_tag": "ABX9TyNhHNuY5ldyE+pJbnrLxZQZ",
      "include_colab_link": true
    },
    "kernelspec": {
      "name": "python3",
      "display_name": "Python 3"
    },
    "language_info": {
      "name": "python"
    }
  },
  "cells": [
    {
      "cell_type": "markdown",
      "metadata": {
        "id": "view-in-github",
        "colab_type": "text"
      },
      "source": [
        "<a href=\"https://colab.research.google.com/github/sachan-shreya10/LeanIn_July2021_Competitive-Coding_Shreya-Sheel-Sachan/blob/main/Shreya_Sheel_Sachan_Assignment3_Word_Embeddings.ipynb\" target=\"_parent\"><img src=\"https://colab.research.google.com/assets/colab-badge.svg\" alt=\"Open In Colab\"/></a>"
      ]
    },
    {
      "cell_type": "code",
      "metadata": {
        "colab": {
          "base_uri": "https://localhost:8080/"
        },
        "id": "zgWvJ6MBVu_4",
        "outputId": "44f86a23-51f2-4796-a695-ac519c8c4997"
      },
      "source": [
        "!wget http://mattmahoney.net/dc/text8.zip -O text8.gz\n",
        "!gzip -d text8.gz -f"
      ],
      "execution_count": 1,
      "outputs": [
        {
          "output_type": "stream",
          "text": [
            "--2021-08-18 15:21:53--  http://mattmahoney.net/dc/text8.zip\n",
            "Resolving mattmahoney.net (mattmahoney.net)... 67.195.197.24\n",
            "Connecting to mattmahoney.net (mattmahoney.net)|67.195.197.24|:80... connected.\n",
            "HTTP request sent, awaiting response... 200 OK\n",
            "Length: 31344016 (30M) [application/zip]\n",
            "Saving to: ‘text8.gz’\n",
            "\n",
            "text8.gz            100%[===================>]  29.89M   714KB/s    in 44s     \n",
            "\n",
            "2021-08-18 15:22:39 (700 KB/s) - ‘text8.gz’ saved [31344016/31344016]\n",
            "\n"
          ],
          "name": "stdout"
        }
      ]
    },
    {
      "cell_type": "markdown",
      "metadata": {
        "id": "G-5pXe1MWr7d"
      },
      "source": [
        "### Training Word2Vec"
      ]
    },
    {
      "cell_type": "code",
      "metadata": {
        "id": "c_tdqgUeWzUk"
      },
      "source": [
        "from gensim import utils\n",
        "\n",
        "with open('/content/text8','r') as file:\n",
        "  documents = file.readlines()\n",
        "\n",
        "class MyCorpus(object):\n",
        "    def __iter__(self): \n",
        "        for line in documents:\n",
        "            yield utils.simple_preprocess(line)"
      ],
      "execution_count": 2,
      "outputs": []
    },
    {
      "cell_type": "code",
      "metadata": {
        "id": "jCVBE_VQW7Z_"
      },
      "source": [
        "import gensim.models\n",
        "sentences = MyCorpus()\n",
        "cbModel = gensim.models.Word2Vec(sentences=sentences,\n",
        "                                       sg = 0,\n",
        "                                       window = 5,\n",
        "                                       size=85,\n",
        "                                       min_count = 7,\n",
        "                                       workers=15,\n",
        "                                       iter = 20)"
      ],
      "execution_count": 5,
      "outputs": []
    },
    {
      "cell_type": "code",
      "metadata": {
        "colab": {
          "base_uri": "https://localhost:8080/"
        },
        "id": "zgcRBKWVXUsG",
        "outputId": "fc8ce41b-f85f-4aaa-f17c-ae6f08c3e52e"
      },
      "source": [
        "len(cbModel.wv.vocab.keys())"
      ],
      "execution_count": 6,
      "outputs": [
        {
          "output_type": "execute_result",
          "data": {
            "text/plain": [
              "57871"
            ]
          },
          "metadata": {
            "tags": []
          },
          "execution_count": 6
        }
      ]
    },
    {
      "cell_type": "code",
      "metadata": {
        "colab": {
          "base_uri": "https://localhost:8080/"
        },
        "id": "Iz-IK7LQa23I",
        "outputId": "eef5403f-8ad9-4847-da13-0188d1f6ed5e"
      },
      "source": [
        "cbModel.wv.get_vector('boy')"
      ],
      "execution_count": 7,
      "outputs": [
        {
          "output_type": "execute_result",
          "data": {
            "text/plain": [
              "array([-1.58206392e-02,  1.53211867e-02,  1.31440014e-02,  1.94879901e-02,\n",
              "       -1.82291388e-03, -1.39258560e-02,  9.71632265e-03,  3.46721709e-02,\n",
              "       -2.53793201e-03, -3.01043671e-02,  2.03228649e-03, -1.46005186e-03,\n",
              "       -3.52494754e-02,  2.21457481e-02, -9.74384136e-03,  8.88203923e-03,\n",
              "        2.21654251e-02, -1.44438613e-02, -6.80710003e-03, -1.01815267e-02,\n",
              "       -8.26550822e-04, -4.40191524e-03, -3.02514317e-03, -2.25553494e-02,\n",
              "        9.00334585e-03,  9.04000457e-03,  2.08361521e-02, -1.76730528e-02,\n",
              "        1.48692457e-02,  2.26346105e-02, -9.88845155e-03,  6.64705457e-03,\n",
              "       -1.14949769e-03, -2.25460809e-02, -3.17623327e-03,  5.71949361e-03,\n",
              "       -8.75562616e-03,  1.00103924e-02, -5.85186528e-03, -2.38734204e-02,\n",
              "        9.66815351e-05,  1.25190383e-02,  3.59178375e-04,  1.36958966e-02,\n",
              "        2.30197050e-02,  1.89605039e-02, -1.99152064e-03, -3.18783522e-02,\n",
              "        1.39268825e-03,  1.70030829e-03,  4.38886648e-03, -1.06299361e-02,\n",
              "        8.72850418e-03, -3.41052911e-03, -9.13064834e-03, -6.16454193e-03,\n",
              "        2.40434185e-02, -1.52495212e-03, -2.08763871e-02, -2.66367365e-02,\n",
              "        3.89136164e-03,  7.06974603e-03,  1.22694708e-02,  1.32947825e-02,\n",
              "       -8.57786916e-04, -1.75563041e-02, -4.37165750e-03,  6.63143676e-03,\n",
              "        2.75028427e-03,  2.98725837e-03, -4.25239047e-03, -3.10002808e-02,\n",
              "        9.55495145e-03,  1.37119507e-02,  8.71373340e-04,  1.13726342e-02,\n",
              "       -1.93472542e-02, -1.73659641e-02,  3.57199460e-02, -2.11844184e-02,\n",
              "        1.18839834e-03, -2.34686807e-02,  2.78027495e-03, -9.23063420e-03,\n",
              "       -1.03927106e-02], dtype=float32)"
            ]
          },
          "metadata": {
            "tags": []
          },
          "execution_count": 7
        }
      ]
    },
    {
      "cell_type": "code",
      "metadata": {
        "colab": {
          "base_uri": "https://localhost:8080/"
        },
        "id": "CvREdIvkbB1P",
        "outputId": "e30a9f6b-7861-462d-f776-d5b2a9044003"
      },
      "source": [
        "cbModel.wv.most_similar('boy',topn=3)"
      ],
      "execution_count": 8,
      "outputs": [
        {
          "output_type": "execute_result",
          "data": {
            "text/plain": [
              "[('birth', 0.9797092080116272),\n",
              " ('structures', 0.979152500629425),\n",
              " ('influenced', 0.9791452884674072)]"
            ]
          },
          "metadata": {
            "tags": []
          },
          "execution_count": 8
        }
      ]
    },
    {
      "cell_type": "markdown",
      "metadata": {
        "id": "DcJgTWdxbWLf"
      },
      "source": [
        "### Word Similarity"
      ]
    },
    {
      "cell_type": "code",
      "metadata": {
        "colab": {
          "base_uri": "https://localhost:8080/",
          "height": 363
        },
        "id": "VDzAs9-5bZeK",
        "outputId": "a5879439-99ce-4012-81c0-73a7c214fa81"
      },
      "source": [
        "import pandas as pd\n",
        "data_set = pd.read_csv('goldstandard.txt', delimiter='\\t',header=None)\n",
        "data_set.columns=['w1', 'w2', 'ref sim score']\n",
        "data_set.head(10)"
      ],
      "execution_count": 9,
      "outputs": [
        {
          "output_type": "execute_result",
          "data": {
            "text/html": [
              "<div>\n",
              "<style scoped>\n",
              "    .dataframe tbody tr th:only-of-type {\n",
              "        vertical-align: middle;\n",
              "    }\n",
              "\n",
              "    .dataframe tbody tr th {\n",
              "        vertical-align: top;\n",
              "    }\n",
              "\n",
              "    .dataframe thead th {\n",
              "        text-align: right;\n",
              "    }\n",
              "</style>\n",
              "<table border=\"1\" class=\"dataframe\">\n",
              "  <thead>\n",
              "    <tr style=\"text-align: right;\">\n",
              "      <th></th>\n",
              "      <th>w1</th>\n",
              "      <th>w2</th>\n",
              "      <th>ref sim score</th>\n",
              "    </tr>\n",
              "  </thead>\n",
              "  <tbody>\n",
              "    <tr>\n",
              "      <th>0</th>\n",
              "      <td>tiger</td>\n",
              "      <td>cat</td>\n",
              "      <td>7.35</td>\n",
              "    </tr>\n",
              "    <tr>\n",
              "      <th>1</th>\n",
              "      <td>tiger</td>\n",
              "      <td>tiger</td>\n",
              "      <td>10.00</td>\n",
              "    </tr>\n",
              "    <tr>\n",
              "      <th>2</th>\n",
              "      <td>plane</td>\n",
              "      <td>car</td>\n",
              "      <td>5.77</td>\n",
              "    </tr>\n",
              "    <tr>\n",
              "      <th>3</th>\n",
              "      <td>train</td>\n",
              "      <td>car</td>\n",
              "      <td>6.31</td>\n",
              "    </tr>\n",
              "    <tr>\n",
              "      <th>4</th>\n",
              "      <td>television</td>\n",
              "      <td>radio</td>\n",
              "      <td>6.77</td>\n",
              "    </tr>\n",
              "    <tr>\n",
              "      <th>5</th>\n",
              "      <td>media</td>\n",
              "      <td>radio</td>\n",
              "      <td>7.42</td>\n",
              "    </tr>\n",
              "    <tr>\n",
              "      <th>6</th>\n",
              "      <td>bread</td>\n",
              "      <td>butter</td>\n",
              "      <td>6.19</td>\n",
              "    </tr>\n",
              "    <tr>\n",
              "      <th>7</th>\n",
              "      <td>cucumber</td>\n",
              "      <td>potato</td>\n",
              "      <td>5.92</td>\n",
              "    </tr>\n",
              "    <tr>\n",
              "      <th>8</th>\n",
              "      <td>doctor</td>\n",
              "      <td>nurse</td>\n",
              "      <td>7.00</td>\n",
              "    </tr>\n",
              "    <tr>\n",
              "      <th>9</th>\n",
              "      <td>professor</td>\n",
              "      <td>doctor</td>\n",
              "      <td>6.62</td>\n",
              "    </tr>\n",
              "  </tbody>\n",
              "</table>\n",
              "</div>"
            ],
            "text/plain": [
              "           w1      w2  ref sim score\n",
              "0       tiger     cat           7.35\n",
              "1       tiger   tiger          10.00\n",
              "2       plane     car           5.77\n",
              "3       train     car           6.31\n",
              "4  television   radio           6.77\n",
              "5       media   radio           7.42\n",
              "6       bread  butter           6.19\n",
              "7    cucumber  potato           5.92\n",
              "8      doctor   nurse           7.00\n",
              "9   professor  doctor           6.62"
            ]
          },
          "metadata": {
            "tags": []
          },
          "execution_count": 9
        }
      ]
    },
    {
      "cell_type": "code",
      "metadata": {
        "id": "Uvmo-7Gf6C2S"
      },
      "source": [
        "from gensim import utils\n",
        "\n",
        "with open('goldstandard.txt','r') as file:\n",
        "  Lines = file.readlines()\n",
        "\n",
        "class Mycorpus(object):\n",
        "    def __iter__(self): \n",
        "        for line in Lines:\n",
        "            yield utils.simple_preprocess(line)         \n"
      ],
      "execution_count": null,
      "outputs": []
    },
    {
      "cell_type": "code",
      "metadata": {
        "id": "PVAxfOH76UrU"
      },
      "source": [
        "import gensim.models\n",
        "sentences = Mycorpus()\n",
        "cbmodel = gensim.models.Word2Vec(sentences=sentences,min_count = 1)"
      ],
      "execution_count": 73,
      "outputs": []
    },
    {
      "cell_type": "code",
      "metadata": {
        "colab": {
          "base_uri": "https://localhost:8080/"
        },
        "id": "x-FQRBUt8IpY",
        "outputId": "3294eeae-d8cc-4f45-bca5-54313da42f6e"
      },
      "source": [
        "print(cbmodel.wv.vocab.keys())"
      ],
      "execution_count": 74,
      "outputs": [
        {
          "output_type": "stream",
          "text": [
            "dict_keys(['tiger', 'cat', 'plane', 'car', 'train', 'television', 'radio', 'media', 'bread', 'butter', 'cucumber', 'potato', 'doctor', 'nurse', 'professor', 'student', 'smart', 'stupid', 'wood', 'forest', 'money', 'cash', 'king', 'queen', 'rook', 'bishop', 'rabbi', 'fuck', 'sex', 'football', 'soccer', 'basketball', 'tennis', 'arafat', 'jackson', 'physics', 'chemistry', 'vodka', 'gin', 'brandy', 'drink', 'eat', 'automobile', 'gem', 'jewel', 'journey', 'voyage', 'boy', 'lad', 'coast', 'shore', 'asylum', 'madhouse', 'magician', 'wizard', 'midday', 'noon', 'furnace', 'stove', 'food', 'fruit', 'bird', 'cock', 'crane', 'rooster', 'dollar', 'currency', 'jaguar', 'feline', 'carnivore', 'mammal', 'animal', 'organism', 'fauna', 'psychology', 'psychiatry', 'science', 'discipline', 'planet', 'star', 'moon', 'sun', 'precedent', 'example', 'antecedent', 'cup', 'tableware', 'artifact', 'object', 'entity', 'mile', 'kilometer', 'skin', 'eye', 'japanese', 'american', 'century', 'year', 'announcement', 'news', 'personnel', 'harvard', 'yale', 'hospital', 'infrastructure', 'life', 'death', 'travel', 'activity', 'type', 'kind', 'street', 'place', 'avenue', 'block', 'cell', 'phone', 'dividend', 'payment', 'calculation', 'computation', 'profit', 'loss', 'yen', 'buck', 'equipment', 'liquid', 'water', 'marathon', 'sprint', 'seafood', 'lobster', 'wine', 'championship', 'tournament', 'man', 'woman', 'governor', 'murder', 'manslaughter', 'opera', 'performance', 'mexico', 'brazil', 'glass', 'metal', 'aluminum', 'rock', 'jazz', 'museum', 'theater', 'shower', 'thunderstorm', 'monk', 'oracle', 'journal', 'association', 'children', 'flight', 'space', 'situation', 'conclusion', 'word', 'similarity', 'peace', 'plan', 'consumer', 'energy', 'ministry', 'culture', 'investigation', 'effort', 'image', 'surface', 'term', 'start', 'match', 'computer', 'board', 'recommendation', 'brother', 'observation', 'architecture', 'hill', 'deployment', 'departure', 'benchmark', 'index', 'attempt', 'confidence', 'focus', 'development', 'issue', 'history', 'isolation', 'warning', 'trading', 'chance', 'credibility', 'information', 'population', 'stock', 'live', 'atmosphere', 'morality', 'marriage', 'minority', 'landscape', 'report', 'gain', 'music', 'project', 'seven', 'series', 'experience', 'school', 'center', 'five', 'month', 'production', 'importance', 'operation', 'delay', 'interview', 'practice', 'institution', 'nation', 'woodland', 'president', 'medal', 'prejudice', 'recognition', 'viewer', 'serial', 'insurance', 'mars', 'cognition', 'line', 'implement', 'mother', 'industry', 'volunteer', 'motto', 'listing', 'proximity', 'collection', 'article', 'sign', 'recess', 'problem', 'airport', 'reason', 'hypertension', 'direction', 'combination', 'wednesday', 'cemetery', 'possibility', 'girl', 'substance', 'graveyard', 'egg', 'hotel', 'secretary', 'group', 'hike', 'holy', 'cd', 'ear', 'racism', 'slave', 'sugar', 'approach', 'string', 'chord', 'smile', 'cabbage'])\n"
          ],
          "name": "stdout"
        }
      ]
    },
    {
      "cell_type": "code",
      "metadata": {
        "colab": {
          "base_uri": "https://localhost:8080/"
        },
        "id": "Xijvml0enp8S",
        "outputId": "4f13dbf2-bcf3-43a5-b945-0fbb8c13ae46"
      },
      "source": [
        "import warnings\n",
        "warnings.filterwarnings('ignore')\n",
        "from sklearn.metrics.pairwise import cosine_similarity\n",
        "\n",
        "def get_word_similarity(word_1,word_2,cbmodel):\n",
        "  word_1_vector = cbmodel[word_1]\n",
        "  word_2_vector = cbmodel[word_2]\n",
        "\n",
        "  similarity = cosine_similarity(word_1_vector.reshape(1,-1),word_2_vector.reshape(1,-1))[0][0]\n",
        "  return similarity\n",
        "cos_sim_score = []\n",
        "for x in Lines:\n",
        "  a=(x.split('\\t')[0]).lower()\n",
        "  b=x.split('\\t')[1].lower()\n",
        "  d=get_word_similarity(a,b,cbmodel)\n",
        "  cos_sim_score.append(d)\n",
        "print(\"*\"*60)\n",
        "print('Similarity between {} and {} is {}'.format('tiger','cat',get_word_similarity('tiger','cat',cbmodel)))\n",
        "print('Similarity between {} and {} is {}'.format('tiger','tiger',get_word_similarity('tiger','tiger',cbmodel)))\n",
        "print(\"*\"*60)\n",
        "print('Similarity between {} and {} is {}'.format('plane','car',get_word_similarity('plane','car',cbmodel)))\n",
        "print('Similarity between {} and {} is {}'.format('train','car',get_word_similarity('train','car',cbmodel)))\n",
        "print(\"*\"*60)"
      ],
      "execution_count": 83,
      "outputs": [
        {
          "output_type": "stream",
          "text": [
            "************************************************************\n",
            "Similarity between tiger and cat is -0.005931243300437927\n",
            "Similarity between tiger and tiger is 1.0\n",
            "************************************************************\n",
            "Similarity between plane and car is 0.11206931620836258\n",
            "Similarity between train and car is 0.09409364312887192\n",
            "************************************************************\n"
          ],
          "name": "stdout"
        }
      ]
    },
    {
      "cell_type": "code",
      "metadata": {
        "colab": {
          "base_uri": "https://localhost:8080/"
        },
        "id": "z7zWmajSJq_1",
        "outputId": "f69d6bca-1f74-4cc7-c889-b5aae6d84133"
      },
      "source": [
        "print(cos_sim_score)"
      ],
      "execution_count": 84,
      "outputs": [
        {
          "output_type": "stream",
          "text": [
            "[-0.0059312433, 1.0, 0.112069316, 0.09409364, -0.09852365, -0.107725985, 0.14583269, -0.08059428, 0.106800884, 0.18916847, -0.031596355, -0.019442972, -0.042152226, 0.014047594, -0.04623515, -0.16582902, -0.20982902, 0.022623852, -0.028979274, 0.22504424, -0.16111821, 0.057047177, 0.09811378, -0.05558514, 0.1407076, -0.070017055, 0.058137994, -0.08472098, -0.08192326, -0.021681206, -0.15706517, -0.09602709, 0.22217183, -0.1813907, 0.005905418, 0.059653386, 0.015060161, 0.081009515, 0.20517173, -0.04996551, -0.076087765, 0.13522303, 0.021390047, -0.10894764, -0.042887162, -0.055848055, -0.081592806, 0.052510705, -0.08128467, 0.032690134, 0.15276216, 0.118626654, -0.019396015, 0.10051764, -0.21065047, -0.04573407, 0.014699705, 0.08236828, 0.033228107, 0.10587449, 0.26413527, 0.07553862, 0.04965516, 0.07583302, 0.16290095, -0.065012395, -0.10723293, -0.0588743, -0.11221581, -0.04237247, 0.016771378, -0.19308037, 0.019007314, -0.14251634, -0.014749, -0.0055314326, 0.05211755, 0.045152433, -0.11940556, 0.12496492, 0.08389757, -0.05423701, 0.035772722, 0.2691763, -0.050030455, -0.0029619609, 0.06260949, 0.06925939, -0.01826654, -0.04481927, -0.09229876, -0.08790224, -0.27780238, 0.13438381, 0.0797752, -0.013094702, -0.03695294, -0.064107746, -0.02126488, -0.052309543, 0.07779829, 0.06399725, -0.024496421, 0.22806229, -0.190462, -0.08538698, 0.052034397, 0.04540627, -0.08892653, -0.07785195, 0.060485326, -0.068279624, 0.005764631, -0.20313367, -0.00261768, -0.0068677412, -0.13290812, 0.0162783, 0.0064925733, -0.092049055, -0.021709852, 0.13534148, 0.02005626, -0.036561627, 0.08272605, -0.07340777, 0.091804795, 0.07068384, 0.02693051, 0.15678334, 0.059767988, -0.0058277496, -0.056154806, 0.047649987, -0.0022686766, -0.1622177, 0.10371043, 0.002144902, -0.028637987, -0.21843344, -0.038375843, 0.008789426, 0.26695782, 0.055078365, -0.061138704, 0.14441103, -0.13739036, -0.064659275, -0.0864664, 0.0008451475, -0.025209218, 0.21977194, 0.11089142, 0.06625981, -0.08213638, -0.13845423, 0.16590224, 0.19129674, -0.017557563, 0.005685737, -0.04602669, 0.061806943, -0.06448824, -0.031133808, -0.03748986, -0.13945359, -0.040262826, 0.028864037, 0.025934367, 0.03345749, 0.0037919478, 0.07029982, 0.0867448, -0.021348374, -0.040190242, -0.088198006, 0.0066712787, 0.09974888, -0.0029536565, 0.032422543, 0.17513931, -0.06732496, -0.07569804, 0.029035566, -0.12862878, 0.007136631, -0.22638096, -0.19953665, 0.108565405, 0.104034916, 0.15742192, 0.049472425, 0.07076293, -0.059026875, -0.16199236, -0.114516884, -0.034139127, 0.15248182, 0.08109366, 0.19743308, -0.105803825, -0.07139748, 0.046737507]\n"
          ],
          "name": "stdout"
        }
      ]
    },
    {
      "cell_type": "code",
      "metadata": {
        "colab": {
          "base_uri": "https://localhost:8080/",
          "height": 363
        },
        "id": "fbGwS-UkKZ5N",
        "outputId": "dbef515f-06d8-4f2a-9c31-5625403b0f6f"
      },
      "source": [
        "data_set['cos sim score']=cos_sim_score\n",
        "data_set.head(10)"
      ],
      "execution_count": 85,
      "outputs": [
        {
          "output_type": "execute_result",
          "data": {
            "text/html": [
              "<div>\n",
              "<style scoped>\n",
              "    .dataframe tbody tr th:only-of-type {\n",
              "        vertical-align: middle;\n",
              "    }\n",
              "\n",
              "    .dataframe tbody tr th {\n",
              "        vertical-align: top;\n",
              "    }\n",
              "\n",
              "    .dataframe thead th {\n",
              "        text-align: right;\n",
              "    }\n",
              "</style>\n",
              "<table border=\"1\" class=\"dataframe\">\n",
              "  <thead>\n",
              "    <tr style=\"text-align: right;\">\n",
              "      <th></th>\n",
              "      <th>w1</th>\n",
              "      <th>w2</th>\n",
              "      <th>ref sim score</th>\n",
              "      <th>cos sim score</th>\n",
              "    </tr>\n",
              "  </thead>\n",
              "  <tbody>\n",
              "    <tr>\n",
              "      <th>0</th>\n",
              "      <td>tiger</td>\n",
              "      <td>cat</td>\n",
              "      <td>7.35</td>\n",
              "      <td>-0.005931</td>\n",
              "    </tr>\n",
              "    <tr>\n",
              "      <th>1</th>\n",
              "      <td>tiger</td>\n",
              "      <td>tiger</td>\n",
              "      <td>10.00</td>\n",
              "      <td>1.000000</td>\n",
              "    </tr>\n",
              "    <tr>\n",
              "      <th>2</th>\n",
              "      <td>plane</td>\n",
              "      <td>car</td>\n",
              "      <td>5.77</td>\n",
              "      <td>0.112069</td>\n",
              "    </tr>\n",
              "    <tr>\n",
              "      <th>3</th>\n",
              "      <td>train</td>\n",
              "      <td>car</td>\n",
              "      <td>6.31</td>\n",
              "      <td>0.094094</td>\n",
              "    </tr>\n",
              "    <tr>\n",
              "      <th>4</th>\n",
              "      <td>television</td>\n",
              "      <td>radio</td>\n",
              "      <td>6.77</td>\n",
              "      <td>-0.098524</td>\n",
              "    </tr>\n",
              "    <tr>\n",
              "      <th>5</th>\n",
              "      <td>media</td>\n",
              "      <td>radio</td>\n",
              "      <td>7.42</td>\n",
              "      <td>-0.107726</td>\n",
              "    </tr>\n",
              "    <tr>\n",
              "      <th>6</th>\n",
              "      <td>bread</td>\n",
              "      <td>butter</td>\n",
              "      <td>6.19</td>\n",
              "      <td>0.145833</td>\n",
              "    </tr>\n",
              "    <tr>\n",
              "      <th>7</th>\n",
              "      <td>cucumber</td>\n",
              "      <td>potato</td>\n",
              "      <td>5.92</td>\n",
              "      <td>-0.080594</td>\n",
              "    </tr>\n",
              "    <tr>\n",
              "      <th>8</th>\n",
              "      <td>doctor</td>\n",
              "      <td>nurse</td>\n",
              "      <td>7.00</td>\n",
              "      <td>0.106801</td>\n",
              "    </tr>\n",
              "    <tr>\n",
              "      <th>9</th>\n",
              "      <td>professor</td>\n",
              "      <td>doctor</td>\n",
              "      <td>6.62</td>\n",
              "      <td>0.189168</td>\n",
              "    </tr>\n",
              "  </tbody>\n",
              "</table>\n",
              "</div>"
            ],
            "text/plain": [
              "           w1      w2  ref sim score  cos sim score\n",
              "0       tiger     cat           7.35      -0.005931\n",
              "1       tiger   tiger          10.00       1.000000\n",
              "2       plane     car           5.77       0.112069\n",
              "3       train     car           6.31       0.094094\n",
              "4  television   radio           6.77      -0.098524\n",
              "5       media   radio           7.42      -0.107726\n",
              "6       bread  butter           6.19       0.145833\n",
              "7    cucumber  potato           5.92      -0.080594\n",
              "8      doctor   nurse           7.00       0.106801\n",
              "9   professor  doctor           6.62       0.189168"
            ]
          },
          "metadata": {
            "tags": []
          },
          "execution_count": 85
        }
      ]
    },
    {
      "cell_type": "markdown",
      "metadata": {
        "id": "ete7lDKGLL9E"
      },
      "source": [
        "## Spearman Correlation Coefficient Word2Vec"
      ]
    },
    {
      "cell_type": "code",
      "metadata": {
        "colab": {
          "base_uri": "https://localhost:8080/"
        },
        "id": "NeFeoKEwLbJr",
        "outputId": "4ac2337b-f365-4c90-fc7a-f8d8240b5654"
      },
      "source": [
        "from scipy import stats\n",
        "stats.spearmanr(ref_list,cos_sim_score )"
      ],
      "execution_count": 86,
      "outputs": [
        {
          "output_type": "execute_result",
          "data": {
            "text/plain": [
              "SpearmanrResult(correlation=-0.04750264321057138, pvalue=0.5009414698636905)"
            ]
          },
          "metadata": {
            "tags": []
          },
          "execution_count": 86
        }
      ]
    },
    {
      "cell_type": "markdown",
      "metadata": {
        "id": "N7SRnX3KpDNp"
      },
      "source": [
        "## FastText"
      ]
    },
    {
      "cell_type": "code",
      "metadata": {
        "colab": {
          "base_uri": "https://localhost:8080/"
        },
        "id": "PGOHHYRipypu",
        "outputId": "4de898f0-a861-4722-96fb-9a5e804b85a6"
      },
      "source": [
        "!pip install fasttext"
      ],
      "execution_count": 87,
      "outputs": [
        {
          "output_type": "stream",
          "text": [
            "Collecting fasttext\n",
            "  Downloading fasttext-0.9.2.tar.gz (68 kB)\n",
            "\u001b[?25l\r\u001b[K     |████▊                           | 10 kB 25.1 MB/s eta 0:00:01\r\u001b[K     |█████████▌                      | 20 kB 26.3 MB/s eta 0:00:01\r\u001b[K     |██████████████▎                 | 30 kB 30.2 MB/s eta 0:00:01\r\u001b[K     |███████████████████             | 40 kB 23.7 MB/s eta 0:00:01\r\u001b[K     |███████████████████████▉        | 51 kB 18.6 MB/s eta 0:00:01\r\u001b[K     |████████████████████████████▋   | 61 kB 14.7 MB/s eta 0:00:01\r\u001b[K     |████████████████████████████████| 68 kB 5.3 MB/s \n",
            "\u001b[?25hCollecting pybind11>=2.2\n",
            "  Using cached pybind11-2.7.1-py2.py3-none-any.whl (200 kB)\n",
            "Requirement already satisfied: setuptools>=0.7.0 in /usr/local/lib/python3.7/dist-packages (from fasttext) (57.4.0)\n",
            "Requirement already satisfied: numpy in /usr/local/lib/python3.7/dist-packages (from fasttext) (1.19.5)\n",
            "Building wheels for collected packages: fasttext\n",
            "  Building wheel for fasttext (setup.py) ... \u001b[?25l\u001b[?25hdone\n",
            "  Created wheel for fasttext: filename=fasttext-0.9.2-cp37-cp37m-linux_x86_64.whl size=3094108 sha256=1d7bdf5f4584725ab2ffaa13d1869b3473a876dc88cb3d96c3a614426a155591\n",
            "  Stored in directory: /root/.cache/pip/wheels/4e/ca/bf/b020d2be95f7641801a6597a29c8f4f19e38f9c02a345bab9b\n",
            "Successfully built fasttext\n",
            "Installing collected packages: pybind11, fasttext\n",
            "Successfully installed fasttext-0.9.2 pybind11-2.7.1\n"
          ],
          "name": "stdout"
        }
      ]
    },
    {
      "cell_type": "code",
      "metadata": {
        "id": "yVksmDtDpLST"
      },
      "source": [
        "import fasttext\n",
        "fassttext_model = fasttext.train_unsupervised(input = '/content/text8',\n",
        "                                              ws = 8,\n",
        "                                              minCount = 8,\n",
        "                                              model = 'cbow',\n",
        "                                              dim = 90,\n",
        "                                              epoch = 6)"
      ],
      "execution_count": 88,
      "outputs": []
    },
    {
      "cell_type": "code",
      "metadata": {
        "colab": {
          "base_uri": "https://localhost:8080/"
        },
        "id": "Jm7NY-GbMKK0",
        "outputId": "3425bf9f-afe9-432a-b85a-91a4ed1c89c6"
      },
      "source": [
        "fassttext_model.get_analogies(\"berlin\", \"germany\", \"france\")"
      ],
      "execution_count": 95,
      "outputs": [
        {
          "output_type": "execute_result",
          "data": {
            "text/plain": [
              "[(0.748455822467804, 'paris'),\n",
              " (0.6327876448631287, 'louvre'),\n",
              " (0.6165676116943359, 'vienne'),\n",
              " (0.6160075068473816, 'francesca'),\n",
              " (0.6044473648071289, 'francais'),\n",
              " (0.5979781746864319, 'palais'),\n",
              " (0.5947330594062805, 'frances'),\n",
              " (0.5923205018043518, 'brussel'),\n",
              " (0.5833576917648315, 'francesco'),\n",
              " (0.5782585740089417, 'brussels')]"
            ]
          },
          "metadata": {
            "tags": []
          },
          "execution_count": 95
        }
      ]
    },
    {
      "cell_type": "markdown",
      "metadata": {
        "id": "xrAX3S6Wsjq1"
      },
      "source": [
        "### Word Similarity"
      ]
    },
    {
      "cell_type": "code",
      "metadata": {
        "id": "sNEi_z3PTQWg"
      },
      "source": [
        "import gensim.models\n",
        "sentences = Mycorpus()\n",
        "fassttext_model = fasttext.train_unsupervised(input = 'goldstandard.txt',\n",
        "                                              minCount = 1,\n",
        "                                              model = 'cbow')"
      ],
      "execution_count": 96,
      "outputs": []
    },
    {
      "cell_type": "code",
      "metadata": {
        "id": "nc3DS_iYsmiW",
        "colab": {
          "base_uri": "https://localhost:8080/"
        },
        "outputId": "f70509ca-e5bc-40c6-d229-3a7774166dc6"
      },
      "source": [
        "import warnings\n",
        "warnings.filterwarnings('ignore')\n",
        "from sklearn.metrics.pairwise import cosine_similarity\n",
        "\n",
        "def get_word_similarity(word_1,word_2,fassttext_model):\n",
        "  word_1_vector = fassttext_model[word_1]\n",
        "  word_2_vector = fassttext_model[word_2]\n",
        "\n",
        "  similarity = cosine_similarity(word_1_vector.reshape(1,-1),word_2_vector.reshape(1,-1))[0][0]\n",
        "  return similarity\n",
        "cos_sim_score = []\n",
        "for x in Lines:\n",
        "  a=(x.split('\\t')[0]).lower()\n",
        "  b=x.split('\\t')[1].lower()\n",
        "  d=get_word_similarity(a,b,fassttext_model)\n",
        "  cos_sim_score.append(d)\n",
        "print(\"*\"*60)\n",
        "print('Similarity between {} and {} is {}'.format('tiger','cat',get_word_similarity('tiger','cat',fassttext_model)))\n",
        "print('Similarity between {} and {} is {}'.format('tiger','tiger',get_word_similarity('tiger','tiger',fassttext_model)))\n",
        "print(\"*\"*60)\n",
        "print('Similarity between {} and {} is {}'.format('plane','car',get_word_similarity('plane','car',fassttext_model)))\n",
        "print('Similarity between {} and {} is {}'.format('train','car',get_word_similarity('train','car',fassttext_model)))\n",
        "print(\"*\"*60)"
      ],
      "execution_count": 97,
      "outputs": [
        {
          "output_type": "stream",
          "text": [
            "************************************************************\n",
            "Similarity between tiger and cat is 0.026445724070072174\n",
            "Similarity between tiger and tiger is 1.0\n",
            "************************************************************\n",
            "Similarity between plane and car is 0.010215142741799355\n",
            "Similarity between train and car is -0.03190624713897705\n",
            "************************************************************\n"
          ],
          "name": "stdout"
        }
      ]
    },
    {
      "cell_type": "code",
      "metadata": {
        "colab": {
          "base_uri": "https://localhost:8080/",
          "height": 363
        },
        "id": "C4BDzNY5T7KW",
        "outputId": "11340233-5c7a-4f51-c6e7-bafd72af73ec"
      },
      "source": [
        "data_set['cos sim score']=cos_sim_score\n",
        "data_set.head(10)"
      ],
      "execution_count": 98,
      "outputs": [
        {
          "output_type": "execute_result",
          "data": {
            "text/html": [
              "<div>\n",
              "<style scoped>\n",
              "    .dataframe tbody tr th:only-of-type {\n",
              "        vertical-align: middle;\n",
              "    }\n",
              "\n",
              "    .dataframe tbody tr th {\n",
              "        vertical-align: top;\n",
              "    }\n",
              "\n",
              "    .dataframe thead th {\n",
              "        text-align: right;\n",
              "    }\n",
              "</style>\n",
              "<table border=\"1\" class=\"dataframe\">\n",
              "  <thead>\n",
              "    <tr style=\"text-align: right;\">\n",
              "      <th></th>\n",
              "      <th>w1</th>\n",
              "      <th>w2</th>\n",
              "      <th>ref sim score</th>\n",
              "      <th>cos sim score</th>\n",
              "    </tr>\n",
              "  </thead>\n",
              "  <tbody>\n",
              "    <tr>\n",
              "      <th>0</th>\n",
              "      <td>tiger</td>\n",
              "      <td>cat</td>\n",
              "      <td>7.35</td>\n",
              "      <td>0.026446</td>\n",
              "    </tr>\n",
              "    <tr>\n",
              "      <th>1</th>\n",
              "      <td>tiger</td>\n",
              "      <td>tiger</td>\n",
              "      <td>10.00</td>\n",
              "      <td>1.000000</td>\n",
              "    </tr>\n",
              "    <tr>\n",
              "      <th>2</th>\n",
              "      <td>plane</td>\n",
              "      <td>car</td>\n",
              "      <td>5.77</td>\n",
              "      <td>0.010215</td>\n",
              "    </tr>\n",
              "    <tr>\n",
              "      <th>3</th>\n",
              "      <td>train</td>\n",
              "      <td>car</td>\n",
              "      <td>6.31</td>\n",
              "      <td>-0.031906</td>\n",
              "    </tr>\n",
              "    <tr>\n",
              "      <th>4</th>\n",
              "      <td>television</td>\n",
              "      <td>radio</td>\n",
              "      <td>6.77</td>\n",
              "      <td>0.009611</td>\n",
              "    </tr>\n",
              "    <tr>\n",
              "      <th>5</th>\n",
              "      <td>media</td>\n",
              "      <td>radio</td>\n",
              "      <td>7.42</td>\n",
              "      <td>-0.100146</td>\n",
              "    </tr>\n",
              "    <tr>\n",
              "      <th>6</th>\n",
              "      <td>bread</td>\n",
              "      <td>butter</td>\n",
              "      <td>6.19</td>\n",
              "      <td>-0.056687</td>\n",
              "    </tr>\n",
              "    <tr>\n",
              "      <th>7</th>\n",
              "      <td>cucumber</td>\n",
              "      <td>potato</td>\n",
              "      <td>5.92</td>\n",
              "      <td>0.159516</td>\n",
              "    </tr>\n",
              "    <tr>\n",
              "      <th>8</th>\n",
              "      <td>doctor</td>\n",
              "      <td>nurse</td>\n",
              "      <td>7.00</td>\n",
              "      <td>0.055987</td>\n",
              "    </tr>\n",
              "    <tr>\n",
              "      <th>9</th>\n",
              "      <td>professor</td>\n",
              "      <td>doctor</td>\n",
              "      <td>6.62</td>\n",
              "      <td>-0.056748</td>\n",
              "    </tr>\n",
              "  </tbody>\n",
              "</table>\n",
              "</div>"
            ],
            "text/plain": [
              "           w1      w2  ref sim score  cos sim score\n",
              "0       tiger     cat           7.35       0.026446\n",
              "1       tiger   tiger          10.00       1.000000\n",
              "2       plane     car           5.77       0.010215\n",
              "3       train     car           6.31      -0.031906\n",
              "4  television   radio           6.77       0.009611\n",
              "5       media   radio           7.42      -0.100146\n",
              "6       bread  butter           6.19      -0.056687\n",
              "7    cucumber  potato           5.92       0.159516\n",
              "8      doctor   nurse           7.00       0.055987\n",
              "9   professor  doctor           6.62      -0.056748"
            ]
          },
          "metadata": {
            "tags": []
          },
          "execution_count": 98
        }
      ]
    },
    {
      "cell_type": "markdown",
      "metadata": {
        "id": "y6M1Ouy8UIOI"
      },
      "source": [
        "### Spearman Correlation Coefficient FastText"
      ]
    },
    {
      "cell_type": "code",
      "metadata": {
        "colab": {
          "base_uri": "https://localhost:8080/"
        },
        "id": "lUnurekgUQvS",
        "outputId": "2df77ac1-bf0f-4b6e-8abc-20e63923bfb2"
      },
      "source": [
        "from scipy import stats\n",
        "stats.spearmanr(ref_list,cos_sim_score )"
      ],
      "execution_count": 99,
      "outputs": [
        {
          "output_type": "execute_result",
          "data": {
            "text/plain": [
              "SpearmanrResult(correlation=-0.023466561098013667, pvalue=0.7396414789347039)"
            ]
          },
          "metadata": {
            "tags": []
          },
          "execution_count": 99
        }
      ]
    }
  ]
}